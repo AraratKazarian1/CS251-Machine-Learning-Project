{
 "cells": [
  {
   "cell_type": "markdown",
   "id": "614d5786-2168-49a5-a0da-7f443b63f1d0",
   "metadata": {},
   "source": [
    "## Data Description"
   ]
  },
  {
   "cell_type": "markdown",
   "id": "12093290-63a3-4fef-99aa-2ccbc570eca8",
   "metadata": {},
   "source": [
    "### Gene Expression Data\n",
    "This dataset includes gene expression levels from colorectal cancer samples. <br>\n",
    "Here are the main details: <br>\n",
    "**Data structure:** <It consists of 1,935 rows and 64 columns. <br>\n",
    "**Columns:** ID_REF: It provides gene IDs, indicating that each row corresponds to a certain gene. <br>\n",
    "**Additional columns (GSM877126, GSM877127, etc.):** These are most likely microarray sample identifiers that indicate  the gene expression level for each sample as given in ID_REF. Most likely, the numbers represent normalised expression values. <br>\n",
    "**Purpose:** Gene expression databases are commonly used to analyse gene activity across different situations or therapies, assisting in determining which genes are upregulated or downregulated in cancer vs normal settings, or throughout different stages of cancer.This dataset includes gene expression levels from colorectal cancer samples. <br>\n",
    "### Patient Data\n",
    "This dataset focuses on the clinical and demographic features of the patients from whose the samples were collected. <br>\n",
    "It's organised as follows: <br>\n",
    "The data structure matches the gene expression data in terms of number of entries, indicating a potential  one-to-one relationship at the sample level with the appropriate connecting field. <br>\n",
    "**Columns:** ID_REF: This dataset contains sample IDs (e.g., GSM877126), which should match the samples in the gene expression data. <br>\n",
    "**Age (in years):** Patients' age. <br>\n",
    "**Dukes:** The stage of colorectal cancer according to Duke's classification, a popular approach for describing how far cancer has progressed.\n",
    "**Gender:** Patients' gender. <br>\n",
    "**Location:** The location of the cancer within the colon. <br>\n",
    "**Disease-free survival (DFS):** A clinical outcome that measures the amount of time following therapy when no indications of malignancy are detected. <br>\n",
    "**DFS event:** A binary indication (0 or 1), with 1 indicating the recurrence of cancer or an associated adverse event. <br>\n",
    "**Adj_Radio:** A binary indication indicating whether the patient got radiation. <br>\n",
    "**Adj_Chem:** A binary indication indicating whether or not the patient got chemotherapy."
   ]
  },
  {
   "cell_type": "markdown",
   "id": "f430ceb9-f109-4e1a-8df5-3657febf91bb",
   "metadata": {},
   "source": [
    "## Importing the necessary libraries"
   ]
  },
  {
   "cell_type": "code",
   "execution_count": 30,
   "id": "e918c14b",
   "metadata": {
    "scrolled": true
   },
   "outputs": [],
   "source": [
    "# Importing the necessary libraries\n",
    "import pandas as pd\n",
    "import numpy as np\n",
    "import matplotlib.pyplot as plt\n",
    "\n",
    "from sklearn.preprocessing import StandardScaler\n",
    "\n",
    "from sklearn.decomposition import PCA\n",
    "from sklearn.manifold import TSNE\n",
    "import umap.umap_ as umap\n",
    "\n",
    "from sklearn.model_selection import train_test_split\n",
    "from sklearn.preprocessing import StandardScaler\n",
    "from sklearn.compose import ColumnTransformer\n",
    "from sklearn.preprocessing import OneHotEncoder\n",
    "\n",
    "from sklearn.metrics import accuracy_score, classification_report\n",
    "from sklearn.model_selection import cross_val_score, GridSearchCV\n",
    "\n",
    "from sklearn.linear_model import LogisticRegression\n",
    "from sklearn.neighbors import KNeighborsClassifier\n",
    "from sklearn.tree import DecisionTreeClassifier\n",
    "from sklearn.svm import SVC\n",
    "\n",
    "from sklearn.ensemble import RandomForestClassifier\n",
    "from sklearn.ensemble import GradientBoostingClassifier\n",
    "from sklearn.ensemble import StackingClassifier\n",
    "\n",
    "import warnings\n",
    "warnings.filterwarnings(\"ignore\")"
   ]
  },
  {
   "cell_type": "markdown",
   "id": "f3a1f315-e9fa-40dd-bce6-dcdb08ac0b24",
   "metadata": {},
   "source": [
    "## Data Preparation"
   ]
  },
  {
   "cell_type": "code",
   "execution_count": 2,
   "id": "12f34d11",
   "metadata": {},
   "outputs": [],
   "source": [
    "# Loading the gene expression data\n",
    "gene_expression_path = 'data/Colorectal Cancer Gene Expression Data.csv'\n",
    "gene_expression_data = pd.read_csv(gene_expression_path)\n",
    "\n",
    "# Loading the patient data\n",
    "patient_data_path = 'data/Colorectal Cancer Patient Data.csv'\n",
    "patient_data = pd.read_csv(patient_data_path)"
   ]
  },
  {
   "cell_type": "code",
   "execution_count": 3,
   "id": "94ac78c8",
   "metadata": {
    "scrolled": true
   },
   "outputs": [
    {
     "name": "stdout",
     "output_type": "stream",
     "text": [
      "Gene Expression Data:\n",
      "   Unnamed: 0     ID_REF  GSM877126  GSM877127  GSM877128  GSM877129  \\\n",
      "0           0     117_at   6.029834   6.344321   5.023127   4.612727   \n",
      "1           1  1007_s_at   9.468893   9.994204  10.409823  10.596921   \n",
      "2           2    1053_at   7.187090   7.705626   7.934057   7.446374   \n",
      "3           3     121_at   6.807582   6.893130   7.165602   7.071417   \n",
      "4           4  1255_g_at   3.084591   3.118704   2.984632   2.912851   \n",
      "\n",
      "   GSM877130  GSM877131  GSM877132  GSM877133  ...  GSM877179  GSM877180  \\\n",
      "0   5.865944   6.863884   5.430316   4.285183  ...   5.111097   4.894901   \n",
      "1  10.252547   9.671754  10.863276   9.788300  ...  10.084649  10.353849   \n",
      "2   7.141105   7.040535   7.767728   8.035921  ...   6.119306   7.320403   \n",
      "3   7.103383   7.504727   7.067674   7.259019  ...   7.267976   7.556417   \n",
      "4   3.383726   2.772535   3.037304   2.986420  ...   2.741116   3.054084   \n",
      "\n",
      "   GSM877181  GSM877182  GSM877183  GSM877184  GSM877185  GSM877186  \\\n",
      "0   6.660386   5.407188   7.228848   4.835558   5.694010   8.661629   \n",
      "1  10.584126  10.585953   9.579042  10.343581   9.409749  10.427298   \n",
      "2   7.326724   7.776103   8.273184   7.471584   7.488735   7.512632   \n",
      "3   6.950901   6.898353   7.240276   7.920227   6.699796   7.046389   \n",
      "4   3.186402   2.881039   2.754190   2.888331   3.201511   2.650723   \n",
      "\n",
      "   GSM877187  GSM877188  \n",
      "0   5.702601   4.500368  \n",
      "1  10.309094  10.996956  \n",
      "2   7.476872   7.453162  \n",
      "3   7.349701   8.031972  \n",
      "4   2.858642   2.787537  \n",
      "\n",
      "[5 rows x 64 columns]\n"
     ]
    }
   ],
   "source": [
    "# Displaying the first few rows and summary information of the gene expression data\n",
    "print(\"Gene Expression Data:\")\n",
    "print(gene_expression_data.head())"
   ]
  },
  {
   "cell_type": "code",
   "execution_count": 4,
   "id": "e3cc368b",
   "metadata": {
    "scrolled": true
   },
   "outputs": [
    {
     "name": "stdout",
     "output_type": "stream",
     "text": [
      "<class 'pandas.core.frame.DataFrame'>\n",
      "RangeIndex: 1935 entries, 0 to 1934\n",
      "Data columns (total 64 columns):\n",
      " #   Column      Non-Null Count  Dtype  \n",
      "---  ------      --------------  -----  \n",
      " 0   Unnamed: 0  1935 non-null   int64  \n",
      " 1   ID_REF      1935 non-null   object \n",
      " 2   GSM877126   1935 non-null   float64\n",
      " 3   GSM877127   1935 non-null   float64\n",
      " 4   GSM877128   1935 non-null   float64\n",
      " 5   GSM877129   1935 non-null   float64\n",
      " 6   GSM877130   1935 non-null   float64\n",
      " 7   GSM877131   1935 non-null   float64\n",
      " 8   GSM877132   1935 non-null   float64\n",
      " 9   GSM877133   1935 non-null   float64\n",
      " 10  GSM877134   1935 non-null   float64\n",
      " 11  GSM877135   1935 non-null   float64\n",
      " 12  GSM877136   1935 non-null   float64\n",
      " 13  GSM877137   1935 non-null   float64\n",
      " 14  GSM877138   1935 non-null   float64\n",
      " 15  GSM877139   1935 non-null   float64\n",
      " 16  GSM877140   1935 non-null   float64\n",
      " 17  GSM877141   1935 non-null   float64\n",
      " 18  GSM877142   1935 non-null   float64\n",
      " 19  GSM877143   1935 non-null   float64\n",
      " 20  GSM877144   1935 non-null   float64\n",
      " 21  GSM877145   1935 non-null   float64\n",
      " 22  GSM877146   1935 non-null   float64\n",
      " 23  GSM877147   1935 non-null   float64\n",
      " 24  GSM877148   1935 non-null   float64\n",
      " 25  GSM877149   1935 non-null   float64\n",
      " 26  GSM877150   1935 non-null   float64\n",
      " 27  GSM877151   1935 non-null   float64\n",
      " 28  GSM877152   1935 non-null   float64\n",
      " 29  GSM877153   1935 non-null   float64\n",
      " 30  GSM877154   1935 non-null   float64\n",
      " 31  GSM877155   1935 non-null   float64\n",
      " 32  GSM877156   1935 non-null   float64\n",
      " 33  GSM877157   1935 non-null   float64\n",
      " 34  GSM877158   1935 non-null   float64\n",
      " 35  GSM877159   1935 non-null   float64\n",
      " 36  GSM877160   1935 non-null   float64\n",
      " 37  GSM877161   1935 non-null   float64\n",
      " 38  GSM877162   1935 non-null   float64\n",
      " 39  GSM877163   1935 non-null   float64\n",
      " 40  GSM877164   1935 non-null   float64\n",
      " 41  GSM877165   1935 non-null   float64\n",
      " 42  GSM877166   1935 non-null   float64\n",
      " 43  GSM877167   1935 non-null   float64\n",
      " 44  GSM877168   1935 non-null   float64\n",
      " 45  GSM877169   1935 non-null   float64\n",
      " 46  GSM877170   1935 non-null   float64\n",
      " 47  GSM877171   1935 non-null   float64\n",
      " 48  GSM877173   1935 non-null   float64\n",
      " 49  GSM877174   1935 non-null   float64\n",
      " 50  GSM877175   1935 non-null   float64\n",
      " 51  GSM877176   1935 non-null   float64\n",
      " 52  GSM877177   1935 non-null   float64\n",
      " 53  GSM877178   1935 non-null   float64\n",
      " 54  GSM877179   1935 non-null   float64\n",
      " 55  GSM877180   1935 non-null   float64\n",
      " 56  GSM877181   1935 non-null   float64\n",
      " 57  GSM877182   1935 non-null   float64\n",
      " 58  GSM877183   1935 non-null   float64\n",
      " 59  GSM877184   1935 non-null   float64\n",
      " 60  GSM877185   1935 non-null   float64\n",
      " 61  GSM877186   1935 non-null   float64\n",
      " 62  GSM877187   1935 non-null   float64\n",
      " 63  GSM877188   1935 non-null   float64\n",
      "dtypes: float64(62), int64(1), object(1)\n",
      "memory usage: 967.6+ KB\n",
      "None\n"
     ]
    }
   ],
   "source": [
    "print(gene_expression_data.info())"
   ]
  },
  {
   "cell_type": "code",
   "execution_count": 5,
   "id": "8554a710",
   "metadata": {},
   "outputs": [
    {
     "name": "stdout",
     "output_type": "stream",
     "text": [
      "Patient Data:\n",
      "   Unnamed: 0     ID_REF  Age (in years) Dukes Stage  Gender Location  \\\n",
      "0           0  GSM877126            62.0           A    Male     Left   \n",
      "1           1  GSM877127            77.0           B    Male     Left   \n",
      "2           2  GSM877128            66.0           C  Female     Left   \n",
      "3           3  GSM877129            72.0           D  Female     Left   \n",
      "4           4  GSM877130            75.0           C    Male     Left   \n",
      "\n",
      "   DFS (in months)  DFS event  Adj_Radio  Adj_Chem  \n",
      "0            108.0        0.0        1.0       0.0  \n",
      "1             40.0        1.0        1.0       0.0  \n",
      "2             49.0        0.0        1.0       0.0  \n",
      "3             45.0        0.0        1.0       1.0  \n",
      "4             40.0        0.0        0.0       1.0  \n",
      "<class 'pandas.core.frame.DataFrame'>\n",
      "RangeIndex: 63 entries, 0 to 62\n",
      "Data columns (total 10 columns):\n",
      " #   Column           Non-Null Count  Dtype  \n",
      "---  ------           --------------  -----  \n",
      " 0   Unnamed: 0       63 non-null     int64  \n",
      " 1   ID_REF           62 non-null     object \n",
      " 2   Age (in years)   62 non-null     float64\n",
      " 3   Dukes Stage      62 non-null     object \n",
      " 4   Gender           62 non-null     object \n",
      " 5   Location         62 non-null     object \n",
      " 6   DFS (in months)  62 non-null     float64\n",
      " 7   DFS event        62 non-null     float64\n",
      " 8   Adj_Radio        62 non-null     float64\n",
      " 9   Adj_Chem         62 non-null     float64\n",
      "dtypes: float64(5), int64(1), object(4)\n",
      "memory usage: 5.1+ KB\n",
      "None\n"
     ]
    }
   ],
   "source": [
    "# Displaying the first few rows and summary information of the patient data\n",
    "print(\"Patient Data:\")\n",
    "print(patient_data.head())\n",
    "print(patient_data.info())"
   ]
  },
  {
   "cell_type": "code",
   "execution_count": 6,
   "id": "63f17ccc",
   "metadata": {},
   "outputs": [
    {
     "name": "stdout",
     "output_type": "stream",
     "text": [
      "[ True  True  True  True  True  True  True  True  True  True  True  True\n",
      "  True  True  True  True  True  True  True  True  True  True  True  True\n",
      "  True  True  True  True  True  True  True  True  True  True  True  True\n",
      "  True  True  True  True  True  True  True  True  True  True  True  True\n",
      "  True  True  True  True  True  True  True  True  True  True  True  True\n",
      "  True  True]\n"
     ]
    }
   ],
   "source": [
    "# Checking for and handling missing values in both datasets\n",
    "gene_expression_data = gene_expression_data.dropna()  # Dropping rows with missing data\n",
    "patient_data = patient_data.dropna()\n",
    "\n",
    "# Removing any unnecessary columns (e.g., 'Unnamed: 0' if it's an index)\n",
    "gene_expression_data.drop('Unnamed: 0', axis=1, inplace=True)\n",
    "patient_data.drop('Unnamed: 0', axis=1, inplace=True)\n",
    "\n",
    "# Convert categorical data into a format suitable for ML (one-hot encoding for 'Gender', 'Location', 'Dukes Stage')\n",
    "#patient_data = pd.get_dummies(patient_data, columns=['Dukes Stage', 'Gender', 'Location'])\n",
    "#print(patient_data.head())\n",
    "# Whether or not do the patiens match in two data, so that we know if we can incorporate one data with another \n",
    "\n",
    "print(gene_expression_data.columns[1:] == patient_data['ID_REF'].unique())\n",
    "\n",
    "# we can see that all the values match, so we can continue our analysis by knowing the stage of disease and other \n",
    "#features of their while gene expression analysis "
   ]
  },
  {
   "cell_type": "markdown",
   "id": "1a6e39b9-0bd1-4ee9-b3ac-50f734f8fb7c",
   "metadata": {},
   "source": [
    "## Dimensionality Reduction"
   ]
  },
  {
   "cell_type": "code",
   "execution_count": 7,
   "id": "265449ee",
   "metadata": {},
   "outputs": [
    {
     "name": "stdout",
     "output_type": "stream",
     "text": [
      "[0.93946638 0.00726572]\n"
     ]
    }
   ],
   "source": [
    "# We will try to reduce the dimensionally of the data by using two ways and then comparing those with each other. We\n",
    "# searched through the internet and found out that for reduction the dimensionality of gene expression data the main ways are PCA and \n",
    "# UMAP, thus we will concentrate on these two. \n",
    "gene_expression_filtered = gene_expression_data.drop(columns=['ID_REF'])  # Removing non-expression columns\n",
    "\n",
    "scaler = StandardScaler()\n",
    "gene_expression_scaled = scaler.fit_transform(gene_expression_filtered)\n",
    "\n",
    "pca = PCA(n_components=2)\n",
    "X = pca.fit(gene_expression_scaled).transform(gene_expression_scaled)\n",
    "print(pca.explained_variance_ratio_)\n",
    "\n",
    "# the results indicate that the first principal component alone captures approximately 93.95% of the variance in \n",
    "# the data, while the second component captures only about 0.73%. This suggests that the first component is highly \n",
    "# dominant, potentially simplifying the analysis as it implies that most of the information in the dataset can be \n",
    "# represented in a single dimension."
   ]
  },
  {
   "cell_type": "code",
   "execution_count": 8,
   "id": "8c77306d",
   "metadata": {},
   "outputs": [
    {
     "data": {
      "image/png": "[encoded data removed]",
      "text/plain": [
       "<Figure size 1000x600 with 1 Axes>"
      ]
     },
     "metadata": {},
     "output_type": "display_data"
    }
   ],
   "source": [
    "# Visualizing the PCA results \n",
    "\n",
    "plt.figure(figsize=(10, 6))\n",
    "plt.scatter(X[:, 0], X[:, 1], alpha=0.5)\n",
    "plt.title('PCA Result')\n",
    "plt.xlabel('Principal Component 1')\n",
    "plt.ylabel('Principal Component 2')\n",
    "plt.show()\n",
    "\n",
    "# the plot suggests that most data points are clustered around a region close to zero on Principal Component 2,\n",
    "# with Principal Component 1 displaying a wider spread. This is consistent with the explained variance ratio provided earlier"
   ]
  },
  {
   "cell_type": "code",
   "execution_count": 9,
   "id": "a02f7d85",
   "metadata": {},
   "outputs": [
    {
     "data": {
      "image/png": "[encoded data removed]",
      "text/plain": [
       "<Figure size 1000x800 with 1 Axes>"
      ]
     },
     "metadata": {},
     "output_type": "display_data"
    }
   ],
   "source": [
    "# We will also do UMAP dimensionality reduction and try to compare the different approaches. \n",
    "# Perform UMAP dimensionality reduction\n",
    "reducer = umap.UMAP(random_state=42)\n",
    "embedding = reducer.fit_transform(gene_expression_scaled)\n",
    "\n",
    "# Plot the UMAP result\n",
    "plt.figure(figsize=(10, 8))\n",
    "plt.scatter(embedding[:, 0], embedding[:, 1], alpha=0.5)\n",
    "plt.title('UMAP Result')\n",
    "plt.xlabel('UMAP Component 1')\n",
    "plt.ylabel('UMAP Component 2')\n",
    "plt.show()\n",
    "\n",
    "# The UMAP visualization displays a clear curved structure, indicating a non-linear relationship within the data. \n",
    "# The dense areas could represent groups or stages of a variable, such as disease progression, and the isolated \n",
    "# points may be outliers. Overlaying additional data could provide further biological or clinical insights."
   ]
  },
  {
   "cell_type": "markdown",
   "id": "0627f790-960b-4af6-bb64-2a3ecf005fd4",
   "metadata": {},
   "source": [
    "Now, let's compare these two ways.<br> \n",
    "**PCA:** Given that PCA captured a significant amount of variance in just one component, it's excellent for reducing complexity and identifying the main axis of variation in the data. If our goal was to simplify the dataset and reduce noise, PCA would be very effective. However, the PCA plot didn't show clear clusters, which might be important for interpretation in a biological context. <br>\n",
    "**UMAP:** The UMAP visualization revealed a more complex, non-linear structure, which could correspond to meaningful biological patterns not captured by PCA. So, UMAP might be more insightful. We will choose UMAP for this analysis. "
   ]
  },
  {
   "cell_type": "code",
   "execution_count": 10,
   "id": "7000aa03",
   "metadata": {},
   "outputs": [
    {
     "name": "stdout",
     "output_type": "stream",
     "text": [
      "               0          1         2         3          4         5     \\\n",
      "ID_REF       117_at  1007_s_at   1053_at    121_at  1255_g_at   1294_at   \n",
      "GSM877126  6.029834   9.468893   7.18709  6.807582   3.084591  7.397013   \n",
      "GSM877127  6.344321   9.994204  7.705626   6.89313   3.118704  7.163797   \n",
      "GSM877128  5.023127  10.409823  7.934057  7.165602   2.984632  7.375224   \n",
      "GSM877129  4.612727  10.596921  7.446374  7.071417   2.912851  7.596233   \n",
      "\n",
      "               6         7          8         9     ...        1925  \\\n",
      "ID_REF      1316_at   1320_at  1405_i_at   1431_at  ...  1554911_at   \n",
      "GSM877126  6.525426  3.848253   7.572331    3.7482  ...    3.504809   \n",
      "GSM877127  6.391195  4.202085   8.295322   3.11434  ...    3.957833   \n",
      "GSM877128  5.538846  4.074462   7.055579   4.17227  ...    3.749518   \n",
      "GSM877129  5.989148  3.738205   9.683806  3.625413  ...    3.610429   \n",
      "\n",
      "                 1926        1927          1928          1929          1930  \\\n",
      "ID_REF     1554912_at  1554914_at  1554915_a_at  1554916_a_at  1554918_a_at   \n",
      "GSM877126    2.856109    3.130712      5.603126      3.091348      4.009692   \n",
      "GSM877127    2.988643    3.484177      6.601744      3.141737      4.679732   \n",
      "GSM877128     2.61084    3.406207      6.003205      3.469987      4.781843   \n",
      "GSM877129    2.728274    3.534871      5.858326      3.372291      3.653575   \n",
      "\n",
      "                   1931        1932       1933          1934  \n",
      "ID_REF     1554919_s_at  1554920_at  213418_at  1554921_a_at  \n",
      "GSM877126        4.3504    2.512026   7.494499      4.030978  \n",
      "GSM877127       4.50876    2.427697   8.156995       2.82709  \n",
      "GSM877128      4.435054      2.5313   6.058687      2.930454  \n",
      "GSM877129      5.014994    2.608755   5.488072      2.949848  \n",
      "\n",
      "[5 rows x 1935 columns]\n"
     ]
    }
   ],
   "source": [
    "# Now, we will try to integrate the patient data with the gene expression data to get a merged data that will provide \n",
    "# more insights. We will first of all transpose the data, so that the ID_REF is a column not a row\n",
    "\n",
    "gene_expression_data = gene_expression_data.transpose()\n",
    "print(gene_expression_data.head())"
   ]
  },
  {
   "cell_type": "code",
   "execution_count": 11,
   "id": "bfc7c1c8",
   "metadata": {},
   "outputs": [],
   "source": [
    "col_names = gene_expression_data.iloc[0].tolist()\n",
    "gene_expression_data.columns = col_names\n",
    "gene_expression_data = gene_expression_data.drop(axis=0, index='ID_REF') # after which we can drop the ID_REF which is no longer needed "
   ]
  },
  {
   "cell_type": "code",
   "execution_count": 12,
   "id": "ed961968",
   "metadata": {},
   "outputs": [],
   "source": [
    "gene_expression_data.insert(loc=0, column='ID_REF', value=gene_expression_data.index)\n",
    "gene_expression_data = gene_expression_data.reset_index(drop=True)\n",
    "features_gene_num = gene_expression_data.columns.tolist()[1:]\n",
    "gene_expression_data[features_gene_num] = gene_expression_data[features_gene_num].astype(float)"
   ]
  },
  {
   "cell_type": "code",
   "execution_count": 13,
   "id": "93bf1fb2",
   "metadata": {
    "scrolled": true
   },
   "outputs": [
    {
     "data": {
      "text/html": [
       "<div>\n",
       "<style scoped>\n",
       "    .dataframe tbody tr th:only-of-type {\n",
       "        vertical-align: middle;\n",
       "    }\n",
       "\n",
       "    .dataframe tbody tr th {\n",
       "        vertical-align: top;\n",
       "    }\n",
       "\n",
       "    .dataframe thead th {\n",
       "        text-align: right;\n",
       "    }\n",
       "</style>\n",
       "<table border=\"1\" class=\"dataframe\">\n",
       "  <thead>\n",
       "    <tr style=\"text-align: right;\">\n",
       "      <th></th>\n",
       "      <th>ID_REF</th>\n",
       "      <th>Age (in years)</th>\n",
       "      <th>Dukes Stage</th>\n",
       "      <th>Gender</th>\n",
       "      <th>Location</th>\n",
       "      <th>DFS (in months)</th>\n",
       "      <th>DFS event</th>\n",
       "      <th>Adj_Radio</th>\n",
       "      <th>Adj_Chem</th>\n",
       "      <th>117_at</th>\n",
       "      <th>...</th>\n",
       "      <th>1554911_at</th>\n",
       "      <th>1554912_at</th>\n",
       "      <th>1554914_at</th>\n",
       "      <th>1554915_a_at</th>\n",
       "      <th>1554916_a_at</th>\n",
       "      <th>1554918_a_at</th>\n",
       "      <th>1554919_s_at</th>\n",
       "      <th>1554920_at</th>\n",
       "      <th>213418_at</th>\n",
       "      <th>1554921_a_at</th>\n",
       "    </tr>\n",
       "  </thead>\n",
       "  <tbody>\n",
       "    <tr>\n",
       "      <th>0</th>\n",
       "      <td>GSM877126</td>\n",
       "      <td>62.0</td>\n",
       "      <td>A</td>\n",
       "      <td>Male</td>\n",
       "      <td>Left</td>\n",
       "      <td>108.0</td>\n",
       "      <td>0.0</td>\n",
       "      <td>1.0</td>\n",
       "      <td>0.0</td>\n",
       "      <td>6.029834</td>\n",
       "      <td>...</td>\n",
       "      <td>3.504809</td>\n",
       "      <td>2.856109</td>\n",
       "      <td>3.130712</td>\n",
       "      <td>5.603126</td>\n",
       "      <td>3.091348</td>\n",
       "      <td>4.009692</td>\n",
       "      <td>4.350400</td>\n",
       "      <td>2.512026</td>\n",
       "      <td>7.494499</td>\n",
       "      <td>4.030978</td>\n",
       "    </tr>\n",
       "    <tr>\n",
       "      <th>1</th>\n",
       "      <td>GSM877127</td>\n",
       "      <td>77.0</td>\n",
       "      <td>B</td>\n",
       "      <td>Male</td>\n",
       "      <td>Left</td>\n",
       "      <td>40.0</td>\n",
       "      <td>1.0</td>\n",
       "      <td>1.0</td>\n",
       "      <td>0.0</td>\n",
       "      <td>6.344321</td>\n",
       "      <td>...</td>\n",
       "      <td>3.957833</td>\n",
       "      <td>2.988643</td>\n",
       "      <td>3.484177</td>\n",
       "      <td>6.601744</td>\n",
       "      <td>3.141737</td>\n",
       "      <td>4.679732</td>\n",
       "      <td>4.508760</td>\n",
       "      <td>2.427697</td>\n",
       "      <td>8.156995</td>\n",
       "      <td>2.827090</td>\n",
       "    </tr>\n",
       "    <tr>\n",
       "      <th>2</th>\n",
       "      <td>GSM877128</td>\n",
       "      <td>66.0</td>\n",
       "      <td>C</td>\n",
       "      <td>Female</td>\n",
       "      <td>Left</td>\n",
       "      <td>49.0</td>\n",
       "      <td>0.0</td>\n",
       "      <td>1.0</td>\n",
       "      <td>0.0</td>\n",
       "      <td>5.023127</td>\n",
       "      <td>...</td>\n",
       "      <td>3.749518</td>\n",
       "      <td>2.610840</td>\n",
       "      <td>3.406207</td>\n",
       "      <td>6.003205</td>\n",
       "      <td>3.469987</td>\n",
       "      <td>4.781843</td>\n",
       "      <td>4.435054</td>\n",
       "      <td>2.531300</td>\n",
       "      <td>6.058687</td>\n",
       "      <td>2.930454</td>\n",
       "    </tr>\n",
       "  </tbody>\n",
       "</table>\n",
       "<p>3 rows × 1944 columns</p>\n",
       "</div>"
      ],
      "text/plain": [
       "      ID_REF  Age (in years) Dukes Stage  Gender Location  DFS (in months)  \\\n",
       "0  GSM877126            62.0           A    Male     Left            108.0   \n",
       "1  GSM877127            77.0           B    Male     Left             40.0   \n",
       "2  GSM877128            66.0           C  Female     Left             49.0   \n",
       "\n",
       "   DFS event  Adj_Radio  Adj_Chem    117_at  ...  1554911_at  1554912_at  \\\n",
       "0        0.0        1.0       0.0  6.029834  ...    3.504809    2.856109   \n",
       "1        1.0        1.0       0.0  6.344321  ...    3.957833    2.988643   \n",
       "2        0.0        1.0       0.0  5.023127  ...    3.749518    2.610840   \n",
       "\n",
       "   1554914_at  1554915_a_at  1554916_a_at  1554918_a_at  1554919_s_at  \\\n",
       "0    3.130712      5.603126      3.091348      4.009692      4.350400   \n",
       "1    3.484177      6.601744      3.141737      4.679732      4.508760   \n",
       "2    3.406207      6.003205      3.469987      4.781843      4.435054   \n",
       "\n",
       "   1554920_at  213418_at  1554921_a_at  \n",
       "0    2.512026   7.494499      4.030978  \n",
       "1    2.427697   8.156995      2.827090  \n",
       "2    2.531300   6.058687      2.930454  \n",
       "\n",
       "[3 rows x 1944 columns]"
      ]
     },
     "execution_count": 13,
     "metadata": {},
     "output_type": "execute_result"
    }
   ],
   "source": [
    "df_combined = patient_data.join(other=gene_expression_data.set_index('ID_REF'), on='ID_REF', how='left')\n",
    "df_combined.head(3)"
   ]
  },
  {
   "cell_type": "markdown",
   "id": "1324cf5a-246c-44ba-820b-46c9caf0279a",
   "metadata": {},
   "source": [
    "## Classical Algorithms"
   ]
  },
  {
   "cell_type": "code",
   "execution_count": 20,
   "id": "e34dac16",
   "metadata": {},
   "outputs": [],
   "source": [
    "# Now, we will start running several ML algorithms on our data to be able to predict the stage of the cancer,\n",
    "# based on the features avaialable in the data. We will start from the most basic algorithms to predict the stage of the disease (multi-class) after preparing the data for algorithms\n",
    "\n",
    "patient_data.dropna(inplace=True)\n",
    "\n",
    "# Separating features and target\n",
    "X = patient_data.drop(['Dukes Stage'], axis=1)\n",
    "y = patient_data['Dukes Stage']\n",
    "\n",
    "# Defining categorical and numerical features\n",
    "categorical_features = ['ID_REF', 'Gender', 'Location']\n",
    "numerical_features = [col for col in X.columns if col not in categorical_features]\n",
    "\n",
    "# OneHotEncoding for categorical variables and StandardScaler for numerical variables\n",
    "preprocessor = ColumnTransformer(\n",
    "    transformers=[\n",
    "        ('num', StandardScaler(), numerical_features),\n",
    "        ('cat', OneHotEncoder(), categorical_features)],\n",
    "    remainder='passthrough')\n",
    "\n",
    "X_processed = preprocessor.fit_transform(X)"
   ]
  },
  {
   "cell_type": "code",
   "execution_count": 21,
   "id": "bfb7580f-3215-48cd-b32d-be4510f7150e",
   "metadata": {},
   "outputs": [],
   "source": [
    "# Splitting data into training and test sets\n",
    "X_train, X_test, y_train, y_test = train_test_split(X_processed, y, test_size=0.2, random_state=42)"
   ]
  },
  {
   "cell_type": "markdown",
   "id": "bb4262f3-3219-47c7-8d22-27591cad2bf7",
   "metadata": {},
   "source": [
    "### Logistic Regression"
   ]
  },
  {
   "cell_type": "code",
   "execution_count": 22,
   "id": "f0cafcbc",
   "metadata": {
    "scrolled": true
   },
   "outputs": [
    {
     "name": "stdout",
     "output_type": "stream",
     "text": [
      "Logistic Regression Accuracy: 0.46153846153846156\n",
      "Classification Report:\n",
      "               precision    recall  f1-score   support\n",
      "\n",
      "           A       0.67      0.40      0.50         5\n",
      "           B       0.50      0.50      0.50         2\n",
      "           C       0.43      0.60      0.50         5\n",
      "           D       0.00      0.00      0.00         1\n",
      "\n",
      "    accuracy                           0.46        13\n",
      "   macro avg       0.40      0.38      0.38        13\n",
      "weighted avg       0.50      0.46      0.46        13\n",
      "\n"
     ]
    }
   ],
   "source": [
    "# Logistic Regression is one of the most basic multi-class classification algorithms, since it allows to assign probabilities\n",
    "# thus predicting the stage of cancer \n",
    "\n",
    "log_reg = LogisticRegression(multi_class='multinomial', solver='lbfgs', max_iter=1000)\n",
    "log_reg.fit(X_train, y_train)\n",
    "y_pred = log_reg.predict(X_test)\n",
    "\n",
    "print(\"Logistic Regression Accuracy:\", accuracy_score(y_test, y_pred))\n",
    "print(\"Classification Report:\\n\", classification_report(y_test, y_pred))"
   ]
  },
  {
   "cell_type": "markdown",
   "id": "a70e3c3a-d9fb-4a00-9438-2c9cee4f0ff8",
   "metadata": {},
   "source": [
    "### K-Nearest Neighbors"
   ]
  },
  {
   "cell_type": "code",
   "execution_count": 27,
   "id": "9ae2db78",
   "metadata": {},
   "outputs": [
    {
     "name": "stdout",
     "output_type": "stream",
     "text": [
      "Best Parameters:  {'n_neighbors': 7}\n",
      "Best Cross-validated Accuracy:  0.3288888888888889\n",
      "KNN Accuracy: 0.23076923076923078\n",
      "Classification Report:\n",
      "               precision    recall  f1-score   support\n",
      "\n",
      "           A       0.25      0.20      0.22         5\n",
      "           B       0.00      0.00      0.00         2\n",
      "           C       0.29      0.40      0.33         5\n",
      "           D       0.00      0.00      0.00         1\n",
      "\n",
      "    accuracy                           0.23        13\n",
      "   macro avg       0.13      0.15      0.14        13\n",
      "weighted avg       0.21      0.23      0.21        13\n",
      "\n"
     ]
    }
   ],
   "source": [
    "# Adjust KNN with cross-validated grid search\n",
    "param_grid = {'n_neighbors': list(range(1, 10))}\n",
    "knn_cv = GridSearchCV(KNeighborsClassifier(), param_grid, cv=5, scoring='accuracy')\n",
    "knn_cv.fit(X_train, y_train)\n",
    "\n",
    "print(\"Best Parameters: \", knn_cv.best_params_)\n",
    "print(\"Best Cross-validated Accuracy: \", knn_cv.best_score_)\n",
    "\n",
    "# Predict and evaluate using the best estimator\n",
    "y_pred = knn_cv.best_estimator_.predict(X_test)\n",
    "print(\"KNN Accuracy:\", accuracy_score(y_test, y_pred))\n",
    "print(\"Classification Report:\\n\", classification_report(y_test, y_pred, zero_division=0))"
   ]
  },
  {
   "cell_type": "markdown",
   "id": "5dcf19a1-e89f-429c-a36f-10931ab21462",
   "metadata": {},
   "source": [
    "### Support Vector Machine"
   ]
  },
  {
   "cell_type": "code",
   "execution_count": 29,
   "id": "de5f41d4",
   "metadata": {
    "scrolled": true
   },
   "outputs": [
    {
     "name": "stdout",
     "output_type": "stream",
     "text": [
      "Fitting 5 folds for each of 96 candidates, totalling 480 fits\n",
      "Best Parameters: {'C': 0.1, 'class_weight': None, 'degree': 2, 'gamma': 'scale', 'kernel': 'linear'}\n",
      "Best Cross-validated Accuracy: 0.4111111111111111\n",
      "Enhanced SVM Accuracy: 0.38461538461538464\n",
      "Classification Report:\n",
      "               precision    recall  f1-score   support\n",
      "\n",
      "           A       0.50      0.40      0.44         5\n",
      "           B       0.00      0.00      0.00         2\n",
      "           C       0.43      0.60      0.50         5\n",
      "           D       0.00      0.00      0.00         1\n",
      "\n",
      "    accuracy                           0.38        13\n",
      "   macro avg       0.23      0.25      0.24        13\n",
      "weighted avg       0.36      0.38      0.36        13\n",
      "\n"
     ]
    }
   ],
   "source": [
    "# Define the parameter grid\n",
    "param_grid = {\n",
    "    'C': [0.1, 1, 10, 100],  # Regularization parameter\n",
    "    'kernel': ['linear', 'rbf', 'poly'],\n",
    "    'degree': [2, 3],  # Degree of the polynomial kernel function\n",
    "    'gamma': ['scale', 'auto'],  # Kernel coefficient for 'rbf', 'poly' and 'sigmoid'\n",
    "    'class_weight': ['balanced', None]  # Automatically adjust weights inversely proportional to class frequencies\n",
    "}\n",
    "\n",
    "# Create a GridSearchCV object\n",
    "svm_cv = GridSearchCV(SVC(), param_grid, cv=5, scoring='accuracy', verbose=1)\n",
    "svm_cv.fit(X_train, y_train)\n",
    "\n",
    "print(\"Best Parameters:\", svm_cv.best_params_)\n",
    "print(\"Best Cross-validated Accuracy:\", svm_cv.best_score_)\n",
    "\n",
    "# Predict and evaluate using the best estimator\n",
    "y_pred = svm_cv.best_estimator_.predict(X_test)\n",
    "print(\"Enhanced SVM Accuracy:\", accuracy_score(y_test, y_pred))\n",
    "print(\"Classification Report:\\n\", classification_report(y_test, y_pred, zero_division=0))"
   ]
  },
  {
   "cell_type": "markdown",
   "id": "f0296bf1-03cb-4560-880e-2e0b95018675",
   "metadata": {},
   "source": [
    "### Decision Tree "
   ]
  },
  {
   "cell_type": "code",
   "execution_count": 31,
   "id": "62446674",
   "metadata": {},
   "outputs": [
    {
     "name": "stdout",
     "output_type": "stream",
     "text": [
      "Best Parameters: {'class_weight': None, 'max_depth': None, 'min_samples_leaf': 2, 'min_samples_split': 2}\n",
      "Enhanced Decision Tree Accuracy: 0.23076923076923078\n",
      "Enhanced Classification Report:\n",
      "               precision    recall  f1-score   support\n",
      "\n",
      "           A       0.33      0.20      0.25         5\n",
      "           B       0.25      0.50      0.33         2\n",
      "           C       0.17      0.20      0.18         5\n",
      "           D       0.00      0.00      0.00         1\n",
      "\n",
      "    accuracy                           0.23        13\n",
      "   macro avg       0.19      0.22      0.19        13\n",
      "weighted avg       0.23      0.23      0.22        13\n",
      "\n"
     ]
    }
   ],
   "source": [
    "# Setting up hyperparameter grid\n",
    "param_grid = {\n",
    "    'max_depth': [None, 10, 20, 30, 40, 50],\n",
    "    'min_samples_split': [2, 5, 10],\n",
    "    'min_samples_leaf': [1, 2, 4],\n",
    "    'class_weight': [None, 'balanced']\n",
    "}\n",
    "\n",
    "# Create a GridSearchCV object\n",
    "tree_cv = GridSearchCV(DecisionTreeClassifier(), param_grid, scoring='accuracy', cv=5)\n",
    "tree_cv.fit(X_train, y_train)\n",
    "\n",
    "# Best parameters found by GridSearchCV\n",
    "print(\"Best Parameters:\", tree_cv.best_params_)\n",
    "\n",
    "# Evaluate the best model found by GridSearchCV\n",
    "y_pred = tree_cv.best_estimator_.predict(X_test)\n",
    "print(\"Enhanced Decision Tree Accuracy:\", accuracy_score(y_test, y_pred))\n",
    "print(\"Enhanced Classification Report:\\n\", classification_report(y_test, y_pred, zero_division=0))"
   ]
  },
  {
   "cell_type": "markdown",
   "id": "6040566e-e0f6-4040-9634-99ded44818fc",
   "metadata": {},
   "source": [
    "**Next, we will start integrating ensemble methods to see whether there is a change in the efficiency.**"
   ]
  },
  {
   "cell_type": "markdown",
   "id": "58c74b20-ff27-4445-91c4-d0ae7e5b55ca",
   "metadata": {},
   "source": [
    "## Ensemble Methods"
   ]
  },
  {
   "cell_type": "markdown",
   "id": "246bc60a-19f9-43d3-9713-432f228b03d8",
   "metadata": {},
   "source": [
    "### Random Forest "
   ]
  },
  {
   "cell_type": "code",
   "execution_count": 32,
   "id": "c2274775",
   "metadata": {
    "scrolled": true
   },
   "outputs": [
    {
     "ename": "NameError",
     "evalue": "name 'RandomForestClassifier' is not defined",
     "output_type": "error",
     "traceback": [
      "\u001b[1;31m---------------------------------------------------------------------------\u001b[0m",
      "\u001b[1;31mNameError\u001b[0m                                 Traceback (most recent call last)",
      "Cell \u001b[1;32mIn[32], line 4\u001b[0m\n\u001b[0;32m      1\u001b[0m \u001b[38;5;66;03m# This is a bagging technique that uses a combination of tree predictors such that each tree depends on the values\u001b[39;00m\n\u001b[0;32m      2\u001b[0m \u001b[38;5;66;03m# of a random vector sampled independently and with the same distribution for all trees in the forest.\u001b[39;00m\n\u001b[1;32m----> 4\u001b[0m random_forest \u001b[38;5;241m=\u001b[39m \u001b[43mRandomForestClassifier\u001b[49m(n_estimators\u001b[38;5;241m=\u001b[39m\u001b[38;5;241m100\u001b[39m)\n\u001b[0;32m      5\u001b[0m random_forest\u001b[38;5;241m.\u001b[39mfit(X_train, y_train)\n\u001b[0;32m      6\u001b[0m y_pred \u001b[38;5;241m=\u001b[39m random_forest\u001b[38;5;241m.\u001b[39mpredict(X_test)\n",
      "\u001b[1;31mNameError\u001b[0m: name 'RandomForestClassifier' is not defined"
     ]
    }
   ],
   "source": [
    "# This is a bagging technique that uses a combination of tree predictors such that each tree depends on the values\n",
    "# of a random vector sampled independently and with the same distribution for all trees in the forest.\n",
    "\n",
    "random_forest = RandomForestClassifier(n_estimators=100)\n",
    "random_forest.fit(X_train, y_train)\n",
    "y_pred = random_forest.predict(X_test)\n",
    "\n",
    "print(\"Random Forest Accuracy:\", accuracy_score(y_test, y_pred))\n",
    "print(\"Classification Report:\\n\", classification_report(y_test, y_pred))"
   ]
  },
  {
   "cell_type": "markdown",
   "id": "d1abe733-dea2-49fa-af66-51e1007bc1d8",
   "metadata": {},
   "source": [
    "### Gradient Boosting "
   ]
  },
  {
   "cell_type": "code",
   "execution_count": 40,
   "id": "0cc87f3d",
   "metadata": {},
   "outputs": [
    {
     "name": "stdout",
     "output_type": "stream",
     "text": [
      "Gradient Boosting Accuracy: 0.38461538461538464\n",
      "Classification Report:\n",
      "               precision    recall  f1-score   support\n",
      "\n",
      "           A       0.50      0.20      0.29         5\n",
      "           B       1.00      0.50      0.67         2\n",
      "           C       0.50      0.60      0.55         5\n",
      "           D       0.00      0.00      0.00         1\n",
      "\n",
      "    accuracy                           0.38        13\n",
      "   macro avg       0.50      0.32      0.37        13\n",
      "weighted avg       0.54      0.38      0.42        13\n",
      "\n"
     ]
    }
   ],
   "source": [
    "# Gradient Boosting: A boosting technique that builds models sequentially, each new model trying to correct errors made by the previous\n",
    "# ones. It uses gradient descent to minimize the loss when adding new models.\n",
    "\n",
    "# Initialize the GradientBoosting classifier\n",
    "gradient_boosting = GradientBoostingClassifier(n_estimators=100, learning_rate=1.0, max_depth=1, random_state=42)\n",
    "gradient_boosting.fit(X_train, y_train)\n",
    "y_pred = gradient_boosting.predict(X_test)\n",
    "\n",
    "print(\"Gradient Boosting Accuracy:\", accuracy_score(y_test, y_pred))\n",
    "print(\"Classification Report:\\n\", classification_report(y_test, y_pred))"
   ]
  },
  {
   "cell_type": "markdown",
   "id": "4a0d1867-fbe6-4e41-a0a5-804778e5a4a1",
   "metadata": {},
   "source": [
    "### Stacking"
   ]
  },
  {
   "cell_type": "code",
   "execution_count": 51,
   "id": "45724d97",
   "metadata": {},
   "outputs": [
    {
     "name": "stdout",
     "output_type": "stream",
     "text": [
      "Stacking Accuracy: 0.3076923076923077\n",
      "Classification Report:\n",
      "               precision    recall  f1-score   support\n",
      "\n",
      "           A       0.00      0.00      0.00         5\n",
      "           B       0.00      0.00      0.00         2\n",
      "           C       0.44      0.80      0.57         5\n",
      "           D       0.00      0.00      0.00         1\n",
      "\n",
      "    accuracy                           0.31        13\n",
      "   macro avg       0.11      0.20      0.14        13\n",
      "weighted avg       0.17      0.31      0.22        13\n",
      "\n"
     ]
    }
   ],
   "source": [
    "# Stacking is an ensemble learning technique that combines multiple classification or regression models via a\n",
    "# meta-classifier or a meta-regressor. The base level models are trained based on a complete training set, then the\n",
    "# meta-model is trained on the outputs of the base level model as features.\n",
    "\n",
    "# Define the base learners\n",
    "estimators = [\n",
    "    ('rf', RandomForestClassifier(n_estimators=10, random_state=42)),\n",
    "    ('svr', SVC(random_state=42))\n",
    "]\n",
    "\n",
    "# Initialize the Stacking classifier with a logistic regression as a meta-classifier\n",
    "stacking = StackingClassifier(estimators=estimators, final_estimator=LogisticRegression())\n",
    "stacking.fit(X_train, y_train)\n",
    "y_pred = stacking.predict(X_test)\n",
    "\n",
    "print(\"Stacking Accuracy:\", accuracy_score(y_test, y_pred))\n",
    "print(\"Classification Report:\\n\", classification_report(y_test, y_pred))"
   ]
  },
  {
   "cell_type": "markdown",
   "id": "5fc04d61-9a45-49a7-8314-851a4caed314",
   "metadata": {},
   "source": [
    "### Comparison between the algorithms for multi-class classification\n",
    "\n",
    "1. **Logistic Regression:**\n",
    "Best Accuracy: 46.15%\n",
    "Performance: Decent performance on A and C classes but struggles with B and D. Shows relatively balanced  capabilities in handling a small dataset.\n",
    "Characteristics: Effective as a baseline model since it provides probabilities for outcomes and handles multi-class natively.\n",
    "\n",
    "2. **K-Nearest Neighbors (KNN):**\n",
    "Best Accuracy: 23.08% after parameter tuning\n",
    "Performance: Generally low performance across all classes, suggesting that distance-based methods may struggle with the feature space or data scale.\n",
    "Characteristics: Sensitive to the local data structure, which might not be very distinctive in this dataset, and  heavily influenced by the choice of k.\n",
    "\n",
    "3. **Support Vector Machine (SVM):**\n",
    "Best Accuracy: 38.46%\n",
    "Performance: Varied success across different kernels and regularization settings. SVM with linear kernel performed  best, indicating potential overfitting with more complex kernels.\n",
    "Characteristics: Robust against overfitting in high-dimensional space but requires careful tuning of hyperparameters and kernel choice.\n",
    "\n",
    "4. **Decision Tree:**\n",
    "Best Accuracy: 38.46%\n",
    "Performance: Showed some capability in differentiating between stages A, B, and C but failed entirely on D.\n",
    "Characteristics: Prone to overfitting, especially with deep trees and without constraints. Easily interpretable.\n",
    "\n",
    "5. **Random Forest:**\n",
    "Accuracy: 30.77%\n",
    "Performance: Slightly worse than individual decision trees, suggesting possible issues with the diversity in the tree ensemble or noise in the dataset.\n",
    "Characteristics: Typically robust and good at handling overfitting, but performance depends heavily on the strength and diversity of the trees.\n",
    "\n",
    "6. **Gradient Boosting:**\n",
    "Accuracy: 38.46%\n",
    "Performance: Similar to SVM in terms of success across classes, with particularly good results in identifying class B but failing on D.\n",
    "Characteristics: Builds models sequentially to correct previous errors and can overfit if not carefully tuned, especially with the learning rate and number of estimators.\n",
    "\n",
    "7. **Stacking:**\n",
    "Accuracy: 30.77%\n",
    "Performance: Struggled more than most other models, indicating possible poor choice of base learners or an ineffective meta-learner for this setup.\n",
    "Characteristics: Combines multiple models to leverage their individual strengths, but effectiveness heavily depends on the diversity and performance of base models.\n",
    "\n",
    "Overall, there are three parts to be separated. \n",
    "Class Struggle: Classes with fewer samples, like B and particularly D, were consistently difficult for most models. This suggests a class imbalance issue.\n",
    "Model Selection: Logistic Regression and Gradient Boosting appear relatively more consistent, suggesting that linear models and ensemble methods that focus on reducing errors iteratively might be more effective for this dataset.\n",
    "\n",
    "Feature Engineering and Data Quality: There could be a need for better feature engineering, more representative data for underrepresented classes, or more advanced methods of handling imbalanced data like synthetic data generation or specialized loss functions."
   ]
  }
 ],
 "metadata": {
  "kernelspec": {
   "display_name": "Python 3 (ipykernel)",
   "language": "python",
   "name": "python3"
  },
  "language_info": {
   "codemirror_mode": {
    "name": "ipython",
    "version": 3
   },
   "file_extension": ".py",
   "mimetype": "text/x-python",
   "name": "python",
   "nbconvert_exporter": "python",
   "pygments_lexer": "ipython3",
   "version": "3.12.1"
  }
 },
 "nbformat": 4,
 "nbformat_minor": 5
}
